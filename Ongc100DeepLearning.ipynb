{
 "cells": [
  {
   "cell_type": "code",
   "execution_count": 1,
   "metadata": {},
   "outputs": [],
   "source": [
    "import numpy as np\n",
    "import matplotlib.pyplot as plt\n",
    "import pandas as pd\n",
    "import seaborn as sns\n",
    "\n",
    "%matplotlib inline"
   ]
  },
  {
   "cell_type": "code",
   "execution_count": 233,
   "metadata": {},
   "outputs": [],
   "source": [
    "dataset = pd.read_csv('HR100.txt', delimiter = '\\t', quoting = 3)"
   ]
  },
  {
   "cell_type": "code",
   "execution_count": 234,
   "metadata": {},
   "outputs": [
    {
     "data": {
      "text/html": [
       "<div>\n",
       "<style scoped>\n",
       "    .dataframe tbody tr th:only-of-type {\n",
       "        vertical-align: middle;\n",
       "    }\n",
       "\n",
       "    .dataframe tbody tr th {\n",
       "        vertical-align: top;\n",
       "    }\n",
       "\n",
       "    .dataframe thead th {\n",
       "        text-align: right;\n",
       "    }\n",
       "</style>\n",
       "<table border=\"1\" class=\"dataframe\">\n",
       "  <thead>\n",
       "    <tr style=\"text-align: right;\">\n",
       "      <th></th>\n",
       "      <th>Name</th>\n",
       "      <th>KPIs</th>\n",
       "      <th>InPreferredDept</th>\n",
       "      <th>CurrDept</th>\n",
       "    </tr>\n",
       "  </thead>\n",
       "  <tbody>\n",
       "    <tr>\n",
       "      <th>0</th>\n",
       "      <td>Tarial</td>\n",
       "      <td>Performed VSS on CISCO catalyst switches and r...</td>\n",
       "      <td>0</td>\n",
       "      <td>Network</td>\n",
       "    </tr>\n",
       "    <tr>\n",
       "      <th>1</th>\n",
       "      <td>Anastasia</td>\n",
       "      <td>Conducts organizational assessments to priorit...</td>\n",
       "      <td>1</td>\n",
       "      <td>Security</td>\n",
       "    </tr>\n",
       "    <tr>\n",
       "      <th>2</th>\n",
       "      <td>Regis</td>\n",
       "      <td>Designed business analtytics and reporting tha...</td>\n",
       "      <td>0</td>\n",
       "      <td>Data</td>\n",
       "    </tr>\n",
       "    <tr>\n",
       "      <th>3</th>\n",
       "      <td>Brent</td>\n",
       "      <td>Developed and implemented complex Internet and...</td>\n",
       "      <td>0</td>\n",
       "      <td>WebDev</td>\n",
       "    </tr>\n",
       "    <tr>\n",
       "      <th>4</th>\n",
       "      <td>Saini</td>\n",
       "      <td>Provided job placement accomodations for emply...</td>\n",
       "      <td>0</td>\n",
       "      <td>HR</td>\n",
       "    </tr>\n",
       "  </tbody>\n",
       "</table>\n",
       "</div>"
      ],
      "text/plain": [
       "        Name                                               KPIs  \\\n",
       "0     Tarial  Performed VSS on CISCO catalyst switches and r...   \n",
       "1  Anastasia  Conducts organizational assessments to priorit...   \n",
       "2      Regis  Designed business analtytics and reporting tha...   \n",
       "3      Brent  Developed and implemented complex Internet and...   \n",
       "4      Saini  Provided job placement accomodations for emply...   \n",
       "\n",
       "   InPreferredDept  CurrDept  \n",
       "0                0   Network  \n",
       "1                1  Security  \n",
       "2                0      Data  \n",
       "3                0    WebDev  \n",
       "4                0        HR  "
      ]
     },
     "execution_count": 234,
     "metadata": {},
     "output_type": "execute_result"
    }
   ],
   "source": [
    "dataset.drop('Count', axis=1).head(5)"
   ]
  },
  {
   "cell_type": "code",
   "execution_count": 235,
   "metadata": {},
   "outputs": [],
   "source": [
    "df = dataset.drop('CurrDept', axis=1)\n",
    "df = dataset.drop('Count', axis=1)"
   ]
  },
  {
   "cell_type": "code",
   "execution_count": 236,
   "metadata": {},
   "outputs": [],
   "source": [
    "import re\n",
    "import nltk \n",
    "import string\n",
    "from nltk.corpus import stopwords\n",
    "from nltk.stem.porter import PorterStemmer"
   ]
  },
  {
   "cell_type": "code",
   "execution_count": 237,
   "metadata": {},
   "outputs": [],
   "source": [
    "corpus = []\n",
    "stored_corpus = []\n",
    "\n",
    "for i in range(0, 49):\n",
    "    individual_corpus = []\n",
    "    details = re.sub('[^a-zA-Z0-9]', ' ', dataset['KPIs'][i])\n",
    "    details = details.lower()\n",
    "    details = details.split()\n",
    "    #new_stopwords = ['class', '10th', '12th']\n",
    "    ps = PorterStemmer()\n",
    "    all_stopwords = stopwords.words('english')\n",
    "    #all_stopwords.extend(new_stopwords)\n",
    "    all_stopwords.remove('not')\n",
    "    details = [ps.stem(word) for word in details if not word in set(all_stopwords)]\n",
    "    details = ' '.join(details)\n",
    "    individual_corpus.append(details)\n",
    "    stored_corpus.append(individual_corpus)\n",
    "    #print(individual_corpus)\n",
    "    corpus.append(details)\n",
    "    corpus.append(details)"
   ]
  },
  {
   "cell_type": "code",
   "execution_count": 238,
   "metadata": {},
   "outputs": [],
   "source": [
    "emp_class = df[(df.InPreferredDept ==1) | (df.InPreferredDept==0)]"
   ]
  },
  {
   "cell_type": "code",
   "execution_count": 239,
   "metadata": {},
   "outputs": [
    {
     "data": {
      "text/html": [
       "<div>\n",
       "<style scoped>\n",
       "    .dataframe tbody tr th:only-of-type {\n",
       "        vertical-align: middle;\n",
       "    }\n",
       "\n",
       "    .dataframe tbody tr th {\n",
       "        vertical-align: top;\n",
       "    }\n",
       "\n",
       "    .dataframe thead th {\n",
       "        text-align: right;\n",
       "    }\n",
       "</style>\n",
       "<table border=\"1\" class=\"dataframe\">\n",
       "  <thead>\n",
       "    <tr style=\"text-align: right;\">\n",
       "      <th></th>\n",
       "      <th>Name</th>\n",
       "      <th>KPIs</th>\n",
       "      <th>InPreferredDept</th>\n",
       "      <th>CurrDept</th>\n",
       "    </tr>\n",
       "  </thead>\n",
       "  <tbody>\n",
       "    <tr>\n",
       "      <th>0</th>\n",
       "      <td>Tarial</td>\n",
       "      <td>Performed VSS on CISCO catalyst switches and r...</td>\n",
       "      <td>0</td>\n",
       "      <td>Network</td>\n",
       "    </tr>\n",
       "    <tr>\n",
       "      <th>1</th>\n",
       "      <td>Anastasia</td>\n",
       "      <td>Conducts organizational assessments to priorit...</td>\n",
       "      <td>1</td>\n",
       "      <td>Security</td>\n",
       "    </tr>\n",
       "    <tr>\n",
       "      <th>2</th>\n",
       "      <td>Regis</td>\n",
       "      <td>Designed business analtytics and reporting tha...</td>\n",
       "      <td>0</td>\n",
       "      <td>Data</td>\n",
       "    </tr>\n",
       "    <tr>\n",
       "      <th>3</th>\n",
       "      <td>Brent</td>\n",
       "      <td>Developed and implemented complex Internet and...</td>\n",
       "      <td>0</td>\n",
       "      <td>WebDev</td>\n",
       "    </tr>\n",
       "    <tr>\n",
       "      <th>4</th>\n",
       "      <td>Saini</td>\n",
       "      <td>Provided job placement accomodations for emply...</td>\n",
       "      <td>0</td>\n",
       "      <td>HR</td>\n",
       "    </tr>\n",
       "  </tbody>\n",
       "</table>\n",
       "</div>"
      ],
      "text/plain": [
       "        Name                                               KPIs  \\\n",
       "0     Tarial  Performed VSS on CISCO catalyst switches and r...   \n",
       "1  Anastasia  Conducts organizational assessments to priorit...   \n",
       "2      Regis  Designed business analtytics and reporting tha...   \n",
       "3      Brent  Developed and implemented complex Internet and...   \n",
       "4      Saini  Provided job placement accomodations for emply...   \n",
       "\n",
       "   InPreferredDept  CurrDept  \n",
       "0                0   Network  \n",
       "1                1  Security  \n",
       "2                0      Data  \n",
       "3                0    WebDev  \n",
       "4                0        HR  "
      ]
     },
     "execution_count": 239,
     "metadata": {},
     "output_type": "execute_result"
    }
   ],
   "source": [
    "emp_class.head(5)"
   ]
  },
  {
   "cell_type": "code",
   "execution_count": 240,
   "metadata": {},
   "outputs": [],
   "source": [
    "def text_process(mess):\n",
    "    ps = PorterStemmer()\n",
    "    # Checking for punctuation\n",
    "    nopunc = [char for char in mess if char not in string.punctuation]\n",
    "    nopunc = ''.join(nopunc)\n",
    "    # Removing stopwords and stemming\n",
    "    return [ps.stem(word.lower()) for word in nopunc.split() if word.lower() not in stopwords.words('english')]"
   ]
  },
  {
   "cell_type": "code",
   "execution_count": 241,
   "metadata": {},
   "outputs": [],
   "source": [
    "X = emp_class['KPIs']\n",
    "y = emp_class['InPreferredDept']"
   ]
  },
  {
   "cell_type": "code",
   "execution_count": 242,
   "metadata": {},
   "outputs": [],
   "source": [
    "from sklearn.feature_extraction.text import CountVectorizer\n",
    "cv = CountVectorizer()"
   ]
  },
  {
   "cell_type": "code",
   "execution_count": 243,
   "metadata": {},
   "outputs": [],
   "source": [
    "Z = []\n",
    "for i in range(0, df.shape[0]):\n",
    "    s = ''.join(text_process(df['KPIs'][i]))\n",
    "    Z.append(s)\n",
    "X = cv.fit_transform(Z)"
   ]
  },
  {
   "cell_type": "code",
   "execution_count": 244,
   "metadata": {},
   "outputs": [],
   "source": [
    "from sklearn.model_selection import train_test_split\n",
    "X_train, X_test, y_train, y_test = train_test_split(X, y,test_size=0.30,random_state=52)"
   ]
  },
  {
   "cell_type": "code",
   "execution_count": 245,
   "metadata": {},
   "outputs": [],
   "source": [
    "import tensorflow as tf"
   ]
  },
  {
   "cell_type": "code",
   "execution_count": 246,
   "metadata": {},
   "outputs": [],
   "source": [
    "ann = tf.keras.models.Sequential()\n",
    "ann.add(tf.keras.layers.Dense(units=6, activation='relu'))\n",
    "ann.add(tf.keras.layers.Dense(units=6, activation='relu'))\n",
    "ann.add(tf.keras.layers.Dense(units=1, activation='sigmoid'))"
   ]
  },
  {
   "cell_type": "code",
   "execution_count": 247,
   "metadata": {},
   "outputs": [],
   "source": [
    "ann.compile(optimizer = 'adam', loss = 'binary_crossentropy', metrics = ['binary_accuracy'])"
   ]
  },
  {
   "cell_type": "code",
   "execution_count": 248,
   "metadata": {},
   "outputs": [],
   "source": [
    "from tensorflow.keras.callbacks import EarlyStopping\n",
    "early_stop = EarlyStopping(monitor='loss', mode='max', verbose=1, patience=15)"
   ]
  },
  {
   "cell_type": "code",
   "execution_count": 249,
   "metadata": {},
   "outputs": [],
   "source": [
    "X_train = X_train.toarray()"
   ]
  },
  {
   "cell_type": "code",
   "execution_count": 250,
   "metadata": {},
   "outputs": [
    {
     "name": "stdout",
     "output_type": "stream",
     "text": [
      "Epoch 1/20\n",
      "18/18 [==============================] - 1s 3ms/step - loss: 0.6598 - binary_accuracy: 0.7571\n",
      "Epoch 2/20\n",
      "18/18 [==============================] - 0s 2ms/step - loss: 0.6407 - binary_accuracy: 0.8000\n",
      "Epoch 3/20\n",
      "18/18 [==============================] - 0s 2ms/step - loss: 0.6227 - binary_accuracy: 0.7857\n",
      "Epoch 4/20\n",
      "18/18 [==============================] - 0s 2ms/step - loss: 0.6055 - binary_accuracy: 0.7857\n",
      "Epoch 5/20\n",
      "18/18 [==============================] - 0s 2ms/step - loss: 0.5876 - binary_accuracy: 0.7714\n",
      "Epoch 6/20\n",
      "18/18 [==============================] - 0s 2ms/step - loss: 0.5716 - binary_accuracy: 0.7714\n",
      "Epoch 7/20\n",
      "18/18 [==============================] - 0s 2ms/step - loss: 0.5553 - binary_accuracy: 0.7714\n",
      "Epoch 8/20\n",
      "18/18 [==============================] - 0s 2ms/step - loss: 0.5395 - binary_accuracy: 0.7714\n",
      "Epoch 9/20\n",
      "18/18 [==============================] - 0s 2ms/step - loss: 0.5243 - binary_accuracy: 0.7714\n",
      "Epoch 10/20\n",
      "18/18 [==============================] - 0s 3ms/step - loss: 0.5094 - binary_accuracy: 0.7714\n",
      "Epoch 11/20\n",
      "18/18 [==============================] - 0s 2ms/step - loss: 0.4956 - binary_accuracy: 0.7714\n",
      "Epoch 12/20\n",
      "18/18 [==============================] - 0s 2ms/step - loss: 0.4831 - binary_accuracy: 0.7714\n",
      "Epoch 13/20\n",
      "18/18 [==============================] - 0s 2ms/step - loss: 0.4704 - binary_accuracy: 0.7714\n",
      "Epoch 14/20\n",
      "18/18 [==============================] - 0s 2ms/step - loss: 0.4592 - binary_accuracy: 0.7714\n",
      "Epoch 15/20\n",
      "18/18 [==============================] - 0s 3ms/step - loss: 0.4481 - binary_accuracy: 0.7714\n",
      "Epoch 16/20\n",
      "18/18 [==============================] - 0s 2ms/step - loss: 0.4368 - binary_accuracy: 0.7714\n",
      "Epoch 16: early stopping\n"
     ]
    },
    {
     "data": {
      "text/plain": [
       "<keras.callbacks.History at 0x1e49b104eb0>"
      ]
     },
     "execution_count": 250,
     "metadata": {},
     "output_type": "execute_result"
    }
   ],
   "source": [
    "ann.fit(X_train, y_train, batch_size = 4, epochs = 20, verbose = 1, callbacks=[early_stop])"
   ]
  },
  {
   "cell_type": "code",
   "execution_count": 251,
   "metadata": {},
   "outputs": [
    {
     "name": "stdout",
     "output_type": "stream",
     "text": [
      "<class 'scipy.sparse.csr.csr_matrix'>\n"
     ]
    }
   ],
   "source": [
    "print(type(X_test))\n"
   ]
  },
  {
   "cell_type": "code",
   "execution_count": 252,
   "metadata": {},
   "outputs": [],
   "source": [
    "def convert_sparse_matrix_to_sparse_tensor(X):\n",
    "    coo = X.tocoo()\n",
    "    indices = np.mat([coo.row, coo.col]).transpose()\n",
    "    return tf.SparseTensor(indices, coo.data, coo.shape)\n",
    "\n",
    "X_test = convert_sparse_matrix_to_sparse_tensor(X_test)"
   ]
  },
  {
   "cell_type": "code",
   "execution_count": 257,
   "metadata": {},
   "outputs": [
    {
     "name": "stdout",
     "output_type": "stream",
     "text": [
      "1/1 [==============================] - 0s 17ms/step\n"
     ]
    }
   ],
   "source": [
    "y_pred = ann.predict(tf.sparse.reorder(X_test))\n",
    "y_pred\n",
    "y_pred = (y_pred > 0.30)\n"
   ]
  },
  {
   "cell_type": "code",
   "execution_count": 258,
   "metadata": {},
   "outputs": [
    {
     "name": "stdout",
     "output_type": "stream",
     "text": [
      "[[20  4]\n",
      " [ 3  3]]\n",
      "              precision    recall  f1-score   support\n",
      "\n",
      "           0       0.87      0.83      0.85        24\n",
      "           1       0.43      0.50      0.46         6\n",
      "\n",
      "    accuracy                           0.77        30\n",
      "   macro avg       0.65      0.67      0.66        30\n",
      "weighted avg       0.78      0.77      0.77        30\n",
      "\n"
     ]
    }
   ],
   "source": [
    "from sklearn.metrics import confusion_matrix, accuracy_score, classification_report\n",
    "cm = confusion_matrix(y_test, y_pred)\n",
    "print(cm)\n",
    "print(classification_report(y_test, y_pred))"
   ]
  },
  {
   "cell_type": "code",
   "execution_count": null,
   "metadata": {},
   "outputs": [],
   "source": []
  },
  {
   "cell_type": "code",
   "execution_count": null,
   "metadata": {},
   "outputs": [],
   "source": []
  }
 ],
 "metadata": {
  "kernelspec": {
   "display_name": "Python 3",
   "language": "python",
   "name": "python3"
  },
  "language_info": {
   "codemirror_mode": {
    "name": "ipython",
    "version": 3
   },
   "file_extension": ".py",
   "mimetype": "text/x-python",
   "name": "python",
   "nbconvert_exporter": "python",
   "pygments_lexer": "ipython3",
   "version": "3.8.5"
  }
 },
 "nbformat": 4,
 "nbformat_minor": 4
}
