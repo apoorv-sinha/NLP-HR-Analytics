{
 "cells": [
  {
   "cell_type": "code",
   "execution_count": 1,
   "metadata": {},
   "outputs": [],
   "source": [
    "import numpy as np\n",
    "import matplotlib.pyplot as plt\n",
    "import pandas as pd\n",
    "import seaborn as sns\n",
    "\n",
    "%matplotlib inline"
   ]
  },
  {
   "cell_type": "code",
   "execution_count": 2,
   "metadata": {},
   "outputs": [],
   "source": [
    "import re\n",
    "import nltk \n",
    "import string\n",
    "from nltk.corpus import stopwords\n",
    "from nltk.stem.porter import PorterStemmer"
   ]
  },
  {
   "cell_type": "code",
   "execution_count": 3,
   "metadata": {},
   "outputs": [],
   "source": [
    "import spacy\n",
    "import textacy"
   ]
  },
  {
   "cell_type": "code",
   "execution_count": 4,
   "metadata": {},
   "outputs": [],
   "source": [
    "dataset = pd.read_csv('HR100.txt', delimiter = '\\t', quoting = 3)\n",
    "df = dataset.drop(['CurrDept', 'Count'], axis=1)"
   ]
  },
  {
   "cell_type": "code",
   "execution_count": 5,
   "metadata": {},
   "outputs": [],
   "source": [
    "nlp = spacy.load(\"en_core_web_sm\")"
   ]
  },
  {
   "cell_type": "code",
   "execution_count": 6,
   "metadata": {},
   "outputs": [],
   "source": [
    "corpus = []\n",
    "\n",
    "for i in range(0, df.shape[0]):\n",
    "    individual_corpus = []\n",
    "    details = re.sub('[^a-zA-Z0-9.,]', ' ', dataset['KPIs'][i])\n",
    "    details = details.lower()\n",
    "    details = details.split()\n",
    "    details.append(\" \")\n",
    "    #new_stopwords = ['class', '10th', '12th']\n",
    "    ps = PorterStemmer()\n",
    "    all_stopwords = stopwords.words('english')\n",
    "    #all_stopwords.extend(new_stopwords)\n",
    "    all_stopwords.remove('not')\n",
    "    details = [word for word in details if not word in set(all_stopwords)]\n",
    "    details = ' '.join(details)\n",
    "    individual_corpus.append(details)\n",
    "    #tored_corpus.append(individual_corpus)\n",
    "    #print(individual_corpus)\n",
    "    corpus.append(details)\n",
    "    corpus.append(details)"
   ]
  },
  {
   "cell_type": "code",
   "execution_count": 7,
   "metadata": {},
   "outputs": [],
   "source": [
    "text = ''.join(corpus)\n",
    "doc = nlp(text)\n",
    "sentences = list(doc.sents)"
   ]
  },
  {
   "cell_type": "code",
   "execution_count": 8,
   "metadata": {},
   "outputs": [],
   "source": [
    "verbs = [token for token in doc if token.pos_ == \"VERB\"]\n",
    "list_of_verbs = [x.text for x in verbs]"
   ]
  },
  {
   "cell_type": "code",
   "execution_count": 9,
   "metadata": {},
   "outputs": [],
   "source": [
    "adj = [token for token in doc if token.pos_ == \"ADJ\"]\n",
    "list_of_adj = [x.text for x in adj]"
   ]
  },
  {
   "cell_type": "code",
   "execution_count": 10,
   "metadata": {},
   "outputs": [],
   "source": [
    "adv = [token for token in doc if token.pos_ == \"ADV\"]\n",
    "list_of_adv = [x.text for x in adv]"
   ]
  },
  {
   "cell_type": "code",
   "execution_count": 11,
   "metadata": {},
   "outputs": [],
   "source": [
    "surplus_words = list_of_adj + list_of_adv + list_of_verbs"
   ]
  },
  {
   "cell_type": "code",
   "execution_count": 12,
   "metadata": {},
   "outputs": [],
   "source": [
    "def preprocessing(mess):\n",
    "    nopunc = [char.lower() for char in mess if char not in string.punctuation]\n",
    "    nopunc = ''.join(nopunc)\n",
    "    details = [word for word in nopunc.split() if word.lower() not in stopwords.words('english')]\n",
    "    details = [word for word in details if not word in set(surplus_words)]\n",
    "    details = ' '.join(details)\n",
    "    fin = []\n",
    "    fin.append(details)\n",
    "    fin = list(set(fin))\n",
    "    return fin\n",
    "    "
   ]
  },
  {
   "cell_type": "code",
   "execution_count": 13,
   "metadata": {},
   "outputs": [
    {
     "data": {
      "text/plain": [
       "0                 [vss cisco catalyst switches routers]\n",
       "1                 [assessments security maturity level]\n",
       "2     [business analtytics reporting productivity bu...\n",
       "3            [internet intranet applications platforms]\n",
       "4             [job placement accomodations restriction]\n",
       "                            ...                        \n",
       "95                    [security technologies like siem]\n",
       "96    [stability client server architecture networks...\n",
       "97    [analysis data extraction machine analysis bus...\n",
       "98                               [custom searches apis]\n",
       "99                  [security events siem tools alerts]\n",
       "Name: KPIs, Length: 100, dtype: object"
      ]
     },
     "execution_count": 13,
     "metadata": {},
     "output_type": "execute_result"
    }
   ],
   "source": [
    "df['KPIs'].apply(preprocessing)"
   ]
  },
  {
   "cell_type": "code",
   "execution_count": 14,
   "metadata": {},
   "outputs": [],
   "source": [
    "from sklearn.feature_extraction.text import CountVectorizer"
   ]
  },
  {
   "cell_type": "code",
   "execution_count": 15,
   "metadata": {},
   "outputs": [],
   "source": [
    "import tensorflow as tf"
   ]
  },
  {
   "cell_type": "code",
   "execution_count": 16,
   "metadata": {},
   "outputs": [],
   "source": [
    "ann = tf.keras.models.Sequential()"
   ]
  },
  {
   "cell_type": "code",
   "execution_count": 17,
   "metadata": {},
   "outputs": [],
   "source": [
    "ann.add(tf.keras.layers.Dense(units=6, activation='relu'))"
   ]
  },
  {
   "cell_type": "code",
   "execution_count": 18,
   "metadata": {},
   "outputs": [],
   "source": [
    "ann.add(tf.keras.layers.Dense(units=6, activation='relu'))"
   ]
  },
  {
   "cell_type": "code",
   "execution_count": 19,
   "metadata": {},
   "outputs": [],
   "source": [
    "ann.add(tf.keras.layers.Dense(units=1, activation='sigmoid'))"
   ]
  },
  {
   "cell_type": "code",
   "execution_count": 20,
   "metadata": {},
   "outputs": [],
   "source": [
    "ann.compile(optimizer = 'adam', loss = 'binary_crossentropy', metrics = ['accuracy'])"
   ]
  },
  {
   "cell_type": "code",
   "execution_count": 21,
   "metadata": {},
   "outputs": [],
   "source": [
    "cv = CountVectorizer()\n",
    "Z = []\n",
    "for i in range(0, df.shape[0]):\n",
    "    s = ''.join(preprocessing(df['KPIs'][i]))\n",
    "    Z.append(s)\n",
    "X = cv.fit_transform(Z)\n",
    "y = df['InPreferredDept']"
   ]
  },
  {
   "cell_type": "code",
   "execution_count": 22,
   "metadata": {},
   "outputs": [],
   "source": [
    "from sklearn.model_selection import train_test_split\n",
    "X_train, X_test, y_train, y_test = train_test_split(X, y,test_size=0.30,random_state=52)"
   ]
  },
  {
   "cell_type": "code",
   "execution_count": 23,
   "metadata": {},
   "outputs": [
    {
     "data": {
      "text/plain": [
       "scipy.sparse.csr.csr_matrix"
      ]
     },
     "execution_count": 23,
     "metadata": {},
     "output_type": "execute_result"
    }
   ],
   "source": [
    "X_train = X_train.toarray()\n",
    "type(X_test)"
   ]
  },
  {
   "cell_type": "code",
   "execution_count": 24,
   "metadata": {},
   "outputs": [],
   "source": [
    "from tensorflow.keras.callbacks import EarlyStopping\n",
    "early_stop = EarlyStopping(monitor='loss', mode='max', verbose=1, patience=15)"
   ]
  },
  {
   "cell_type": "code",
   "execution_count": 25,
   "metadata": {},
   "outputs": [
    {
     "name": "stdout",
     "output_type": "stream",
     "text": [
      "Epoch 1/50\n",
      "5/5 [==============================] - 2s 5ms/step - loss: 0.6911 - accuracy: 0.4714\n",
      "Epoch 2/50\n",
      "5/5 [==============================] - 0s 7ms/step - loss: 0.6808 - accuracy: 0.5714\n",
      "Epoch 3/50\n",
      "5/5 [==============================] - 0s 5ms/step - loss: 0.6711 - accuracy: 0.6143\n",
      "Epoch 4/50\n",
      "5/5 [==============================] - 0s 6ms/step - loss: 0.6617 - accuracy: 0.7000\n",
      "Epoch 5/50\n",
      "5/5 [==============================] - 0s 5ms/step - loss: 0.6527 - accuracy: 0.7429\n",
      "Epoch 6/50\n",
      "5/5 [==============================] - 0s 5ms/step - loss: 0.6425 - accuracy: 0.8000\n",
      "Epoch 7/50\n",
      "5/5 [==============================] - 0s 5ms/step - loss: 0.6331 - accuracy: 0.8143\n",
      "Epoch 8/50\n",
      "5/5 [==============================] - 0s 5ms/step - loss: 0.6225 - accuracy: 0.8429\n",
      "Epoch 9/50\n",
      "5/5 [==============================] - 0s 5ms/step - loss: 0.6117 - accuracy: 0.8429\n",
      "Epoch 10/50\n",
      "5/5 [==============================] - 0s 7ms/step - loss: 0.6006 - accuracy: 0.9000\n",
      "Epoch 11/50\n",
      "5/5 [==============================] - 0s 6ms/step - loss: 0.5886 - accuracy: 0.9000\n",
      "Epoch 12/50\n",
      "5/5 [==============================] - 0s 6ms/step - loss: 0.5767 - accuracy: 0.9000\n",
      "Epoch 13/50\n",
      "5/5 [==============================] - 0s 7ms/step - loss: 0.5637 - accuracy: 0.9143\n",
      "Epoch 14/50\n",
      "5/5 [==============================] - 0s 6ms/step - loss: 0.5506 - accuracy: 0.9429\n",
      "Epoch 15/50\n",
      "5/5 [==============================] - 0s 6ms/step - loss: 0.5368 - accuracy: 0.9571\n",
      "Epoch 16/50\n",
      "5/5 [==============================] - 0s 5ms/step - loss: 0.5228 - accuracy: 0.9571\n",
      "Epoch 16: early stopping\n"
     ]
    },
    {
     "data": {
      "text/plain": [
       "<keras.callbacks.History at 0x2445cc357f0>"
      ]
     },
     "execution_count": 25,
     "metadata": {},
     "output_type": "execute_result"
    }
   ],
   "source": [
    "ann.fit(X_train, y_train, batch_size = 16, epochs = 50, verbose = 1, callbacks=[early_stop])"
   ]
  },
  {
   "cell_type": "code",
   "execution_count": 26,
   "metadata": {},
   "outputs": [],
   "source": [
    "def convert_sparse_matrix_to_sparse_tensor(X):\n",
    "    coo = X.tocoo()\n",
    "    indices = np.mat([coo.row, coo.col]).transpose()\n",
    "    return tf.SparseTensor(indices, coo.data, coo.shape)\n",
    "\n",
    "def predict__class(text):\n",
    "    fin_text = preprocessing(text)\n",
    "    xo = cv.fit_transform(fin_text)\n",
    "    fin_xo = convert_sparse_matrix_to_sparse_tensor(xo)\n",
    "    ans = ann.predict(tf.sparse.reorder(fin_xo))*10\n",
    "    return ans\n",
    "\n",
    "X_test = convert_sparse_matrix_to_sparse_tensor(X_test)"
   ]
  },
  {
   "cell_type": "code",
   "execution_count": 39,
   "metadata": {},
   "outputs": [
    {
     "name": "stdout",
     "output_type": "stream",
     "text": [
      "1/1 [==============================] - 0s 26ms/step\n"
     ]
    }
   ],
   "source": [
    "y_pred = ann.predict(tf.sparse.reorder(X_test))\n",
    "y_pred\n",
    "y_pred = (y_pred > 0.46)"
   ]
  },
  {
   "cell_type": "code",
   "execution_count": 40,
   "metadata": {},
   "outputs": [
    {
     "name": "stdout",
     "output_type": "stream",
     "text": [
      "[[21  3]\n",
      " [ 2  4]]\n",
      "              precision    recall  f1-score   support\n",
      "\n",
      "           0       0.91      0.88      0.89        24\n",
      "           1       0.57      0.67      0.62         6\n",
      "\n",
      "    accuracy                           0.83        30\n",
      "   macro avg       0.74      0.77      0.75        30\n",
      "weighted avg       0.84      0.83      0.84        30\n",
      "\n"
     ]
    }
   ],
   "source": [
    "from sklearn.metrics import classification_report, confusion_matrix\n",
    "print(confusion_matrix(y_test, y_pred))\n",
    "print(classification_report(y_test, y_pred))"
   ]
  },
  {
   "cell_type": "code",
   "execution_count": 41,
   "metadata": {},
   "outputs": [],
   "source": [
    "def predict_class(text):\n",
    "    fin_text = preprocessing(text)\n",
    "    xo = cv.fit_transform(fin_text)\n",
    "    fin_xo = convert_sparse_matrix_to_sparse_tensor(xo)\n",
    "    ans = ann.predict(tf.sparse.reorder(fin_xo))\n",
    "    return ans"
   ]
  },
  {
   "cell_type": "code",
   "execution_count": 44,
   "metadata": {},
   "outputs": [
    {
     "name": "stdout",
     "output_type": "stream",
     "text": [
      "1/1 [==============================] - 0s 30ms/step\n"
     ]
    }
   ],
   "source": [
    "text = \"Represented company's technical security interests to OWASP, following best practices in information security. Reviewed violations of computer security procedures and developed mitigation plans.\"\n",
    "ans = predict_class(text)"
   ]
  },
  {
   "cell_type": "code",
   "execution_count": 45,
   "metadata": {},
   "outputs": [
    {
     "data": {
      "text/plain": [
       "array([[0.5951981]], dtype=float32)"
      ]
     },
     "execution_count": 45,
     "metadata": {},
     "output_type": "execute_result"
    }
   ],
   "source": [
    "ans"
   ]
  },
  {
   "cell_type": "code",
   "execution_count": 49,
   "metadata": {},
   "outputs": [
    {
     "data": {
      "text/plain": [
       "array([[ True]])"
      ]
     },
     "execution_count": 49,
     "metadata": {},
     "output_type": "execute_result"
    }
   ],
   "source": [
    "(ans > 0.46)"
   ]
  },
  {
   "cell_type": "code",
   "execution_count": 46,
   "metadata": {},
   "outputs": [
    {
     "name": "stdout",
     "output_type": "stream",
     "text": [
      "1/1 [==============================] - 0s 28ms/step\n"
     ]
    }
   ],
   "source": [
    "text1 = \"Built a customer attrition statistical model that improved customer retention for clients.\"\n",
    "ans1 = predict_class(text1)"
   ]
  },
  {
   "cell_type": "code",
   "execution_count": 47,
   "metadata": {},
   "outputs": [
    {
     "data": {
      "text/plain": [
       "array([[0.44523966]], dtype=float32)"
      ]
     },
     "execution_count": 47,
     "metadata": {},
     "output_type": "execute_result"
    }
   ],
   "source": [
    "ans1"
   ]
  },
  {
   "cell_type": "code",
   "execution_count": 50,
   "metadata": {},
   "outputs": [
    {
     "data": {
      "text/plain": [
       "array([[False]])"
      ]
     },
     "execution_count": 50,
     "metadata": {},
     "output_type": "execute_result"
    }
   ],
   "source": [
    "(ans1 > 0.46)"
   ]
  },
  {
   "cell_type": "code",
   "execution_count": null,
   "metadata": {},
   "outputs": [],
   "source": []
  }
 ],
 "metadata": {
  "kernelspec": {
   "display_name": "Python 3",
   "language": "python",
   "name": "python3"
  },
  "language_info": {
   "codemirror_mode": {
    "name": "ipython",
    "version": 3
   },
   "file_extension": ".py",
   "mimetype": "text/x-python",
   "name": "python",
   "nbconvert_exporter": "python",
   "pygments_lexer": "ipython3",
   "version": "3.8.5"
  }
 },
 "nbformat": 4,
 "nbformat_minor": 4
}
